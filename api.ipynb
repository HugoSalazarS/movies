{
 "cells": [
  {
   "cell_type": "code",
   "execution_count": 1,
   "metadata": {},
   "outputs": [],
   "source": [
    "from fastapi import FastAPI\n",
    "from fastapi.responses import HTMLResponse\n",
    "import pandas as pd\n",
    "import datetime\n",
    "import locale\n",
    "from data import df as df\n",
    "import re\n",
    "from unidecode import unidecode\n",
    "from IPython.display import display\n",
    "from pandas import DataFrame"
   ]
  },
  {
   "cell_type": "code",
   "execution_count": 2,
   "metadata": {},
   "outputs": [
    {
     "data": {
      "text/html": [
       "<div>\n",
       "<style scoped>\n",
       "    .dataframe tbody tr th:only-of-type {\n",
       "        vertical-align: middle;\n",
       "    }\n",
       "\n",
       "    .dataframe tbody tr th {\n",
       "        vertical-align: top;\n",
       "    }\n",
       "\n",
       "    .dataframe thead th {\n",
       "        text-align: right;\n",
       "    }\n",
       "</style>\n",
       "<table border=\"1\" class=\"dataframe\">\n",
       "  <thead>\n",
       "    <tr style=\"text-align: right;\">\n",
       "      <th></th>\n",
       "      <th>budget</th>\n",
       "      <th>id</th>\n",
       "      <th>original_language</th>\n",
       "      <th>overview</th>\n",
       "      <th>popularity</th>\n",
       "      <th>release_date</th>\n",
       "      <th>revenue</th>\n",
       "      <th>runtime</th>\n",
       "      <th>status</th>\n",
       "      <th>tagline</th>\n",
       "      <th>...</th>\n",
       "      <th>iso</th>\n",
       "      <th>countrie_name</th>\n",
       "      <th>iso_lang</th>\n",
       "      <th>lang_name</th>\n",
       "      <th>release_year</th>\n",
       "      <th>return</th>\n",
       "      <th>character</th>\n",
       "      <th>actor_id</th>\n",
       "      <th>actor_name</th>\n",
       "      <th>Director</th>\n",
       "    </tr>\n",
       "  </thead>\n",
       "  <tbody>\n",
       "    <tr>\n",
       "      <th>0</th>\n",
       "      <td>30000000</td>\n",
       "      <td>862</td>\n",
       "      <td>en</td>\n",
       "      <td>Led by Woody, Andy's toys live happily in his ...</td>\n",
       "      <td>21.946943</td>\n",
       "      <td>1995-October-30</td>\n",
       "      <td>373554033.0</td>\n",
       "      <td>81.0</td>\n",
       "      <td>Released</td>\n",
       "      <td>NaN</td>\n",
       "      <td>...</td>\n",
       "      <td>US</td>\n",
       "      <td>United States of America</td>\n",
       "      <td>en</td>\n",
       "      <td>English</td>\n",
       "      <td>1995</td>\n",
       "      <td>12.451801</td>\n",
       "      <td>Woody (voice), Buzz Lightyear (voice), Mr. Pot...</td>\n",
       "      <td>31, 12898, 7167, 12899, 12900, 7907, 8873, 111...</td>\n",
       "      <td>Tom Hanks, Tim Allen, Don Rickles, Jim Varney,...</td>\n",
       "      <td>John Lasseter</td>\n",
       "    </tr>\n",
       "    <tr>\n",
       "      <th>1</th>\n",
       "      <td>65000000</td>\n",
       "      <td>8844</td>\n",
       "      <td>en</td>\n",
       "      <td>When siblings Judy and Peter discover an encha...</td>\n",
       "      <td>17.015539</td>\n",
       "      <td>1995-December-15</td>\n",
       "      <td>262797249.0</td>\n",
       "      <td>104.0</td>\n",
       "      <td>Released</td>\n",
       "      <td>Roll the dice and unleash the excitement!</td>\n",
       "      <td>...</td>\n",
       "      <td>US</td>\n",
       "      <td>United States of America</td>\n",
       "      <td>en, fr</td>\n",
       "      <td>English, Français</td>\n",
       "      <td>1995</td>\n",
       "      <td>4.043035</td>\n",
       "      <td>Alan Parrish, Samuel Alan Parrish / Van Pelt, ...</td>\n",
       "      <td>2157, 8537, 205, 145151, 5149, 10739, 58563, 1...</td>\n",
       "      <td>Robin Williams, Jonathan Hyde, Kirsten Dunst, ...</td>\n",
       "      <td>Joe Johnston</td>\n",
       "    </tr>\n",
       "    <tr>\n",
       "      <th>2</th>\n",
       "      <td>0</td>\n",
       "      <td>15602</td>\n",
       "      <td>en</td>\n",
       "      <td>A family wedding reignites the ancient feud be...</td>\n",
       "      <td>11.712900</td>\n",
       "      <td>1995-December-22</td>\n",
       "      <td>0.0</td>\n",
       "      <td>101.0</td>\n",
       "      <td>Released</td>\n",
       "      <td>Still Yelling. Still Fighting. Still Ready for...</td>\n",
       "      <td>...</td>\n",
       "      <td>US</td>\n",
       "      <td>United States of America</td>\n",
       "      <td>en</td>\n",
       "      <td>English</td>\n",
       "      <td>1995</td>\n",
       "      <td>0.000000</td>\n",
       "      <td>Max Goldman, John Gustafson, Ariel Gustafson, ...</td>\n",
       "      <td>6837, 3151, 13567, 16757, 589, 16523, 7166</td>\n",
       "      <td>Walter Matthau, Jack Lemmon, Ann-Margret, Soph...</td>\n",
       "      <td>Howard Deutch</td>\n",
       "    </tr>\n",
       "    <tr>\n",
       "      <th>3</th>\n",
       "      <td>16000000</td>\n",
       "      <td>31357</td>\n",
       "      <td>en</td>\n",
       "      <td>Cheated on, mistreated and stepped on, the wom...</td>\n",
       "      <td>3.859495</td>\n",
       "      <td>1995-December-22</td>\n",
       "      <td>81452156.0</td>\n",
       "      <td>127.0</td>\n",
       "      <td>Released</td>\n",
       "      <td>Friends are the people who let you be yourself...</td>\n",
       "      <td>...</td>\n",
       "      <td>US</td>\n",
       "      <td>United States of America</td>\n",
       "      <td>en</td>\n",
       "      <td>English</td>\n",
       "      <td>1995</td>\n",
       "      <td>5.090760</td>\n",
       "      <td>\"Savannah Vannah Jackson\", \"Bernadine Bernie H...</td>\n",
       "      <td>8851, 9780, 18284, 51359, 66804, 352, 87118, 3...</td>\n",
       "      <td>Whitney Houston, Angela Bassett, Loretta Devin...</td>\n",
       "      <td>Forest Whitaker</td>\n",
       "    </tr>\n",
       "    <tr>\n",
       "      <th>4</th>\n",
       "      <td>0</td>\n",
       "      <td>11862</td>\n",
       "      <td>en</td>\n",
       "      <td>Just when George Banks has recovered from his ...</td>\n",
       "      <td>8.387519</td>\n",
       "      <td>1995-February-10</td>\n",
       "      <td>76578911.0</td>\n",
       "      <td>106.0</td>\n",
       "      <td>Released</td>\n",
       "      <td>Just When His World Is Back To Normal... He's ...</td>\n",
       "      <td>...</td>\n",
       "      <td>US</td>\n",
       "      <td>United States of America</td>\n",
       "      <td>en</td>\n",
       "      <td>English</td>\n",
       "      <td>1995</td>\n",
       "      <td>0.000000</td>\n",
       "      <td>George Banks, Nina Banks, Franck Eggelhoffer, ...</td>\n",
       "      <td>67773, 3092, 519, 70696, 59222, 18793, 14592, ...</td>\n",
       "      <td>Steve Martin, Diane Keaton, Martin Short, Kimb...</td>\n",
       "      <td>Charles Shyer</td>\n",
       "    </tr>\n",
       "  </tbody>\n",
       "</table>\n",
       "<p>5 rows × 30 columns</p>\n",
       "</div>"
      ],
      "text/plain": [
       "     budget     id original_language  \\\n",
       "0  30000000    862                en   \n",
       "1  65000000   8844                en   \n",
       "2         0  15602                en   \n",
       "3  16000000  31357                en   \n",
       "4         0  11862                en   \n",
       "\n",
       "                                            overview  popularity  \\\n",
       "0  Led by Woody, Andy's toys live happily in his ...   21.946943   \n",
       "1  When siblings Judy and Peter discover an encha...   17.015539   \n",
       "2  A family wedding reignites the ancient feud be...   11.712900   \n",
       "3  Cheated on, mistreated and stepped on, the wom...    3.859495   \n",
       "4  Just when George Banks has recovered from his ...    8.387519   \n",
       "\n",
       "       release_date      revenue  runtime    status  \\\n",
       "0   1995-October-30  373554033.0     81.0  Released   \n",
       "1  1995-December-15  262797249.0    104.0  Released   \n",
       "2  1995-December-22          0.0    101.0  Released   \n",
       "3  1995-December-22   81452156.0    127.0  Released   \n",
       "4  1995-February-10   76578911.0    106.0  Released   \n",
       "\n",
       "                                             tagline  ... iso  \\\n",
       "0                                                NaN  ...  US   \n",
       "1          Roll the dice and unleash the excitement!  ...  US   \n",
       "2  Still Yelling. Still Fighting. Still Ready for...  ...  US   \n",
       "3  Friends are the people who let you be yourself...  ...  US   \n",
       "4  Just When His World Is Back To Normal... He's ...  ...  US   \n",
       "\n",
       "              countrie_name  iso_lang          lang_name release_year  \\\n",
       "0  United States of America        en            English         1995   \n",
       "1  United States of America    en, fr  English, Français         1995   \n",
       "2  United States of America        en            English         1995   \n",
       "3  United States of America        en            English         1995   \n",
       "4  United States of America        en            English         1995   \n",
       "\n",
       "      return                                          character  \\\n",
       "0  12.451801  Woody (voice), Buzz Lightyear (voice), Mr. Pot...   \n",
       "1   4.043035  Alan Parrish, Samuel Alan Parrish / Van Pelt, ...   \n",
       "2   0.000000  Max Goldman, John Gustafson, Ariel Gustafson, ...   \n",
       "3   5.090760  \"Savannah Vannah Jackson\", \"Bernadine Bernie H...   \n",
       "4   0.000000  George Banks, Nina Banks, Franck Eggelhoffer, ...   \n",
       "\n",
       "                                            actor_id  \\\n",
       "0  31, 12898, 7167, 12899, 12900, 7907, 8873, 111...   \n",
       "1  2157, 8537, 205, 145151, 5149, 10739, 58563, 1...   \n",
       "2         6837, 3151, 13567, 16757, 589, 16523, 7166   \n",
       "3  8851, 9780, 18284, 51359, 66804, 352, 87118, 3...   \n",
       "4  67773, 3092, 519, 70696, 59222, 18793, 14592, ...   \n",
       "\n",
       "                                          actor_name         Director  \n",
       "0  Tom Hanks, Tim Allen, Don Rickles, Jim Varney,...    John Lasseter  \n",
       "1  Robin Williams, Jonathan Hyde, Kirsten Dunst, ...     Joe Johnston  \n",
       "2  Walter Matthau, Jack Lemmon, Ann-Margret, Soph...    Howard Deutch  \n",
       "3  Whitney Houston, Angela Bassett, Loretta Devin...  Forest Whitaker  \n",
       "4  Steve Martin, Diane Keaton, Martin Short, Kimb...    Charles Shyer  \n",
       "\n",
       "[5 rows x 30 columns]"
      ]
     },
     "execution_count": 2,
     "metadata": {},
     "output_type": "execute_result"
    }
   ],
   "source": [
    "df.head()"
   ]
  },
  {
   "cell_type": "code",
   "execution_count": 3,
   "metadata": {},
   "outputs": [],
   "source": [
    "# Instance of FastApi\n",
    "app = FastAPI()"
   ]
  },
  {
   "cell_type": "code",
   "execution_count": 6,
   "metadata": {},
   "outputs": [],
   "source": [
    "meses = {\n",
    "        \"enero\": \"January\",\n",
    "        \"febrero\": \"February\",\n",
    "        \"marzo\": \"March\",\n",
    "        \"abril\": \"April\",\n",
    "        \"mayo\": \"May\",\n",
    "        \"junio\": \"June\",\n",
    "        \"julio\": \"July\",\n",
    "        \"agosto\": \"August\",\n",
    "        \"septiembre\": \"September\",\n",
    "        \"octubre\": \"October\",\n",
    "        \"noviembre\": \"November\",\n",
    "        \"diciembre\": \"December\"\n",
    "    }"
   ]
  },
  {
   "cell_type": "code",
   "execution_count": 7,
   "metadata": {},
   "outputs": [],
   "source": [
    "# 1 function number of films per month\n",
    "\n",
    "@app.get(\"/cantidad_filmaciones_mes/{mes}\")\n",
    "def cantidad_filmaciones_mes(mes: str):\n",
    "    # Convertir el mes en español a minúsculas y eliminar espacios adicionales\n",
    "    mes = mes.lower().strip()\n",
    "\n",
    "    # Verificar si el mes está en el diccionario\n",
    "    if mes in meses:\n",
    "        mes_en_ingles = meses[mes]\n",
    "        cantidad = len(df[df[\"release_date\"].str.contains(mes_en_ingles, case=False)])\n",
    "        return f\"{cantidad} películas fueron estrenadas en el mes de {mes}\"\n",
    "    else:\n",
    "        return f\"No se reconoce el mes '{mes}'. Por favor, ingresa un mes válido en español.\""
   ]
  },
  {
   "cell_type": "code",
   "execution_count": 8,
   "metadata": {},
   "outputs": [
    {
     "data": {
      "text/plain": [
       "'3341 películas fueron estrenadas en el mes de mayo'"
      ]
     },
     "execution_count": 8,
     "metadata": {},
     "output_type": "execute_result"
    }
   ],
   "source": [
    "cantidad_filmaciones_mes('mayo')"
   ]
  },
  {
   "cell_type": "code",
   "execution_count": 6,
   "metadata": {},
   "outputs": [],
   "source": [
    "@app.get(\"/cantidad_filmaciones_dia/{dia}\")\n",
    "def cantidad_filmaciones_dia(dia: str):\n",
    "    valid_days = ['lunes', 'martes', 'miercoles', 'jueves', 'viernes', 'sabado', 'domingo']\n",
    "    dia_unaccented = unidecode(dia.lower().strip().replace(\" \", \"\"))\n",
    "    \n",
    "    if dia_unaccented not in valid_days:\n",
    "        return 'No ha ingresado un día de la semana válido en idioma español'\n",
    "    \n",
    "    df['release_day'] = pd.to_datetime(df['release_date'], format=\"%Y-%B-%d\").dt.strftime('%A')\n",
    "    films = len(df[df[\"release_day\"].str.normalize('NFKD').str.encode('ascii', errors='ignore').str.decode('utf-8').str.lower().str.contains(dia_unaccented, case=False)])\n",
    "    \n",
    "    return f\"{films} películas fueron estrenadas en los días {dia}\"\n"
   ]
  },
  {
   "cell_type": "code",
   "execution_count": 7,
   "metadata": {},
   "outputs": [
    {
     "data": {
      "text/plain": [
       "'7531 películas fueron estrenadas en los días jueves'"
      ]
     },
     "execution_count": 7,
     "metadata": {},
     "output_type": "execute_result"
    }
   ],
   "source": [
    "cantidad_filmaciones_dia('jueves')"
   ]
  },
  {
   "cell_type": "code",
   "execution_count": 8,
   "metadata": {},
   "outputs": [],
   "source": [
    "@app.get(\"/score_title/{film_title}\")\n",
    "def score_title(film_title: str):\n",
    "    films = df[df[\"title\"].str.lower() == film_title.lower()]\n",
    "    if films.empty:\n",
    "        return \"No se encontró la filmación especificada.\"\n",
    "    \n",
    "    ordered_films = films.sort_values(by=\"release_year\")\n",
    "    \n",
    "    answers = []\n",
    "    for index, row in ordered_films.iterrows():\n",
    "        title = row[\"title\"]\n",
    "        year_released = row[\"release_year\"]\n",
    "        score = row[\"popularity\"]\n",
    "        answer = \"Película: \", title, \"Año estreno: \", year_released, \"Score/Popularidad\",  score, \"\\n\"\n",
    "        answers.append(answer)\n",
    "    \n",
    "    return answers\n",
    "\n"
   ]
  },
  {
   "cell_type": "code",
   "execution_count": 10,
   "metadata": {},
   "outputs": [],
   "source": [
    "def score_title(film_title: str):\n",
    "    films = df[df[\"title\"].str.lower() == film_title.lower()]\n",
    "    if films.empty:\n",
    "        return \"No se encontró la filmación especificada.\"\n",
    "\n",
    "    ordered_films = films.sort_values(by=\"release_year\")\n",
    "\n",
    "    table_html = \"<table>\"\n",
    "    table_html += \"<tr><th>Película</th><th>Año estreno</th><th>Score/Popularidad</th></tr>\"\n",
    "\n",
    "    for index, row in ordered_films.iterrows():\n",
    "        title = row[\"title\"]\n",
    "        year_released = row[\"release_year\"]\n",
    "        score = row[\"popularity\"]\n",
    "\n",
    "        table_html += \"<tr>\"\n",
    "        table_html += f\"<td>{title}</td>\"\n",
    "        table_html += f\"<td>{year_released}</td>\"\n",
    "        table_html += f\"<td>{score}</td>\"\n",
    "        table_html += \"</tr>\"\n",
    "\n",
    "    table_html += \"</table>\"\n",
    "\n",
    "    return HTMLResponse(content=table_html, status_code=200)"
   ]
  },
  {
   "cell_type": "code",
   "execution_count": 11,
   "metadata": {},
   "outputs": [
    {
     "data": {
      "text/plain": [
       "<starlette.responses.HTMLResponse at 0x11aa92290>"
      ]
     },
     "execution_count": 11,
     "metadata": {},
     "output_type": "execute_result"
    }
   ],
   "source": [
    "score_title('cinderella')"
   ]
  },
  {
   "cell_type": "code",
   "execution_count": null,
   "metadata": {},
   "outputs": [],
   "source": [
    "pd.set_option('display.max_columns', None)"
   ]
  },
  {
   "cell_type": "code",
   "execution_count": 18,
   "metadata": {},
   "outputs": [],
   "source": [
    "@app.get(\"/score_title/{film_title}\")\n",
    "def votos_titulo(titulo_de_la_filmacion: str):\n",
    "    filmacion = df[df[\"title\"].str.lower() == titulo_de_la_filmacion.lower()]\n",
    "    \n",
    "    if filmacion.empty:\n",
    "        return \"No se encontró la filmación especificada.\"\n",
    "    \n",
    "    if filmacion[\"vote_count\"].values[0] < 2000:\n",
    "        return \"La película no cuenta con al menos 2000 valoraciones.\"\n",
    "    \n",
    "    titulo = filmacion[\"title\"].values[0]\n",
    "    votos = filmacion[\"vote_count\"].values[0]\n",
    "    promedio = filmacion[\"vote_average\"].values[0]\n",
    "    \n",
    "    respuesta = f\"La película {titulo} fue estrenada en el año {filmacion['release_year'].values[0]}. La misma cuenta con un total de {votos} valoraciones, con un promedio de {promedio}.\"\n",
    "    return respuesta\n"
   ]
  },
  {
   "cell_type": "code",
   "execution_count": 20,
   "metadata": {},
   "outputs": [
    {
     "data": {
      "text/plain": [
       "'La película 12 Angry Men fue estrenada en el año 1957. La misma cuenta con un total de 2130.0 valoraciones, con un promedio de 8.2.'"
      ]
     },
     "execution_count": 20,
     "metadata": {},
     "output_type": "execute_result"
    }
   ],
   "source": [
    "votos_titulo('12 angry men')"
   ]
  },
  {
   "cell_type": "code",
   "execution_count": 12,
   "metadata": {},
   "outputs": [],
   "source": [
    "def get_actor(actor_name):\n",
    "    actor_films = df[df[\"actor_name\"].str.contains(fr\"\\b{actor_name}\\b\", case=False, regex=True, na=False)]\n",
    "    \n",
    "    if actor_films.empty:\n",
    "        return \"No se encontró el actor especificado.\"\n",
    "\n",
    "    film_count = len(actor_films)\n",
    "    total_return = actor_films[\"return\"].sum()\n",
    "    average_return = total_return / film_count\n",
    "\n",
    "    respuesta = f\"El actor {actor_name} ha participado en {film_count} filmaciones. Ha conseguido un retorno total de {total_return} con un promedio de {average_return} por filmación.\"\n",
    "    return respuesta\n"
   ]
  },
  {
   "cell_type": "code",
   "execution_count": 17,
   "metadata": {},
   "outputs": [
    {
     "data": {
      "text/plain": [
       "'El actor woody allen ha participado en 56 filmaciones. Ha conseguido un retorno total de 75.17772737111272 con un promedio de 1.3424594173412987 por filmación.'"
      ]
     },
     "execution_count": 17,
     "metadata": {},
     "output_type": "execute_result"
    }
   ],
   "source": [
    "get_actor('woody allen')"
   ]
  },
  {
   "cell_type": "code",
   "execution_count": 15,
   "metadata": {},
   "outputs": [],
   "source": [
    "def get_director(director_name):\n",
    "    director_movies = df[df['Director'].str.contains(fr\"\\b{director_name}\\b\", case=False, regex=True, na=False)]\n",
    "    if director_movies.empty:\n",
    "        return {\"message\": \"No se encontró el director especificado.\"}\n",
    "    film_count = len(director_movies)\n",
    "    total_return = director_movies['return'].sum()\n",
    "    answer = f\"El director {director_name} ha dirigido {film_count} película(s). Con un ROI total de {total_return}\"\n",
    "    movies_data = director_movies[['Director', 'title', 'release_date', 'return', 'budget', 'revenue']]\n",
    "\n",
    "    \n",
    "    return {\"answer\": answer, \"movies_data\": movies_data}"
   ]
  },
  {
   "cell_type": "code",
   "execution_count": 16,
   "metadata": {},
   "outputs": [
    {
     "data": {
      "text/plain": [
       "{'answer': 'El director woody ha dirigido 49 película(s). Con un ROI total de 96.88784128640854',\n",
       " 'movies_data':                                                 Director  \\\n",
       " 51                                           Woody Allen   \n",
       " 343                                          Woody Allen   \n",
       " 487                                          Woody Allen   \n",
       " 1032                                         Woody Allen   \n",
       " 1050                                         Woody Allen   \n",
       " 1051                                         Woody Allen   \n",
       " 1191                                         Woody Allen   \n",
       " 1204                                         Woody Allen   \n",
       " 1625                                         Woody Allen   \n",
       " 1858                                         Woody Allen   \n",
       " 1960                                         Woody Allen   \n",
       " 2181                                         Woody Allen   \n",
       " 2247                                         Woody Allen   \n",
       " 2642                                         Woody Allen   \n",
       " 2864                                         Woody Allen   \n",
       " 3019                                         Woody Allen   \n",
       " 3502                                         Woody Allen   \n",
       " 3695                                         Woody Allen   \n",
       " 3696                                         Woody Allen   \n",
       " 3697                                         Woody Allen   \n",
       " 4272                                         Woody Allen   \n",
       " 4273                                         Woody Allen   \n",
       " 4288                                         Woody Allen   \n",
       " 4289                                         Woody Allen   \n",
       " 4510   Woody Allen, Francis Ford Coppola, Martin Scor...   \n",
       " 4614                                         Woody Allen   \n",
       " 5219                                         Woody Allen   \n",
       " 5228                                         Woody Allen   \n",
       " 5984                                         Woody Allen   \n",
       " 6457                     Woody Allen, Senkichi Taniguchi   \n",
       " 6623                                         Woody Allen   \n",
       " 6863                                         Woody Allen   \n",
       " 7548                                         Woody Allen   \n",
       " 7576                                         Woody Allen   \n",
       " 9850                                         Woody Allen   \n",
       " 10613                                        Woody Allen   \n",
       " 11149                                        Woody Allen   \n",
       " 11523                                        Woody Allen   \n",
       " 12344                                        Woody Allen   \n",
       " 12888                                        Woody Allen   \n",
       " 13879                                        Woody Allen   \n",
       " 15939                                        Woody Allen   \n",
       " 17165                                        Woody Allen   \n",
       " 19116                                        Woody Allen   \n",
       " 21374                                        Woody Allen   \n",
       " 23878                                        Woody Allen   \n",
       " 31894                                        Woody Allen   \n",
       " 38893                                        Woody Allen   \n",
       " 40947                                        Woody Allen   \n",
       " \n",
       "                                                    title        release_date  \\\n",
       " 51                                      Mighty Aphrodite  1995-septiembre-13   \n",
       " 343                                Bullets Over Broadway     1994-octubre-14   \n",
       " 487                             Manhattan Murder Mystery      1993-agosto-18   \n",
       " 1032                            Everyone Says I Love You   1996-diciembre-06   \n",
       " 1050                                             Sleeper   1973-diciembre-17   \n",
       " 1051                                             Bananas       1971-abril-28   \n",
       " 1191                                          Annie Hall       1977-abril-19   \n",
       " 1204                                           Manhattan       1979-abril-25   \n",
       " 1625                                Deconstructing Harry      1997-agosto-26   \n",
       " 1858                              Take the Money and Run      1969-agosto-18   \n",
       " 1960                            The Purple Rose of Cairo       1985-marzo-01   \n",
       " 2181                                   Stardust Memories  1980-septiembre-26   \n",
       " 2247                                           Celebrity  1998-septiembre-07   \n",
       " 2642                                          Radio Days       1987-enero-30   \n",
       " 2864                             Crimes and Misdemeanors     1989-octubre-13   \n",
       " 3019                                   Sweet and Lowdown   1999-diciembre-03   \n",
       " 3502                                   Small Time Crooks        2000-mayo-19   \n",
       " 3695   Everything You Always Wanted to Know About Sex...      1972-agosto-06   \n",
       " 3696                                           Interiors      1978-agosto-02   \n",
       " 3697                                      Love and Death       1975-junio-10   \n",
       " 4272                                               Alice   1990-diciembre-25   \n",
       " 4273                                       Another Woman     1988-octubre-13   \n",
       " 4288                                           September       1987-enero-01   \n",
       " 4289                                     Shadows and Fog   1991-diciembre-05   \n",
       " 4510                                    New York Stories       1989-marzo-10   \n",
       " 4614                      The Curse of the Jade Scorpion      2001-agosto-05   \n",
       " 5219                                  Husbands and Wives  1992-septiembre-18   \n",
       " 5228                                    Hollywood Ending        2002-mayo-03   \n",
       " 5984                      A Midsummer Night's Sex Comedy       1982-julio-16   \n",
       " 6457                              What's Up, Tiger Lily?   1966-noviembre-02   \n",
       " 6623                                       Anything Else      2003-agosto-27   \n",
       " 6863                              Hannah and Her Sisters     1986-febrero-07   \n",
       " 7548                                               Zelig       1983-julio-15   \n",
       " 7576                                 Broadway Danny Rose       1984-enero-27   \n",
       " 9850                                 Melinda and Melinda     2004-octubre-29   \n",
       " 10613                                        Match Point     2005-octubre-26   \n",
       " 11149                                              Scoop       2006-julio-27   \n",
       " 11523                              Don't Drink the Water   1994-diciembre-18   \n",
       " 12344                                  Cassandra's Dream       2007-junio-18   \n",
       " 12888                           Vicky Cristina Barcelona      2008-agosto-15   \n",
       " 13879                                     Whatever Works       2009-junio-19   \n",
       " 15939                 You Will Meet a Tall Dark Stranger        2010-mayo-23   \n",
       " 17165                                  Midnight in Paris        2011-mayo-11   \n",
       " 19116                                  To Rome with Love       2012-abril-20   \n",
       " 21374                                       Blue Jasmine       2013-julio-25   \n",
       " 23878                             Magic in the Moonlight       2014-julio-25   \n",
       " 31894                                     Irrational Man       2015-julio-17   \n",
       " 38893                                       Café Society        2016-mayo-11   \n",
       " 40947                               Crisis in Six Scenes  2016-septiembre-30   \n",
       " \n",
       "          return    budget      revenue  \n",
       " 51     0.446667  15000000    6700000.0  \n",
       " 343    0.000000         0          0.0  \n",
       " 487    0.835969  13500000   11285588.0  \n",
       " 1032   0.000000  20000000          0.0  \n",
       " 1050   9.172365   2000000   18344729.0  \n",
       " 1051   5.916848   2000000   11833696.0  \n",
       " 1191   9.562856   4000000   38251425.0  \n",
       " 1204   0.000000         0   39946780.0  \n",
       " 1625   0.534342  20000000   10686841.0  \n",
       " 1858   0.000000   1500000          0.0  \n",
       " 1960   0.708756  15000000   10631333.0  \n",
       " 2181   1.038900  10000000   10389003.0  \n",
       " 2247   0.000000         0          0.0  \n",
       " 2642   0.000000  16000000          0.0  \n",
       " 2864   0.960774  19000000   18254702.0  \n",
       " 3019   0.000000         0          0.0  \n",
       " 3502   0.000000         0          0.0  \n",
       " 3695   9.008145   2000000   18016290.0  \n",
       " 3696   0.000000         0          0.0  \n",
       " 3697   6.724581   3000000   20173742.0  \n",
       " 4272   0.000000         0          0.0  \n",
       " 4273   0.000000         0          0.0  \n",
       " 4288   0.000000         0          0.0  \n",
       " 4289   0.195409  14000000    2735731.0  \n",
       " 4510   0.000000  15000000          0.0  \n",
       " 4614   0.000000         0          0.0  \n",
       " 5219   0.000000         0          0.0  \n",
       " 5228   0.000000  16000000          0.0  \n",
       " 5984   0.000000         0          0.0  \n",
       " 6457   0.000000         0          0.0  \n",
       " 6623   0.000000         0          0.0  \n",
       " 6863   6.263131   6400000   40084041.0  \n",
       " 7548   0.000000         0   11798616.0  \n",
       " 7576   1.325062   8000000   10600497.0  \n",
       " 9850   0.000000         0   20085825.0  \n",
       " 10613  5.687092  15000000   85306374.0  \n",
       " 11149  7.896225   4000000   31584901.0  \n",
       " 11523  0.000000         0          0.0  \n",
       " 12344  0.000000         0          0.0  \n",
       " 12888  6.427243  15000000   96408652.0  \n",
       " 13879  2.339854  15000000   35097815.0  \n",
       " 15939  0.000000  22000000          0.0  \n",
       " 17165  5.037307  30000000  151119219.0  \n",
       " 19116  4.308522  17000000   73244881.0  \n",
       " 21374  5.511456  18000000   99206215.0  \n",
       " 23878  3.037462  16800000   51029361.0  \n",
       " 31894  2.490099  11000000   27391084.0  \n",
       " 38893  1.458775  30000000   43763247.0  \n",
       " 40947  0.000000         0          0.0  }"
      ]
     },
     "execution_count": 16,
     "metadata": {},
     "output_type": "execute_result"
    }
   ],
   "source": [
    "get_director('woody')"
   ]
  },
  {
   "cell_type": "code",
   "execution_count": null,
   "metadata": {},
   "outputs": [],
   "source": [
    "def get_director(director_name: str):\n",
    "    # Filtrar las películas por director\n",
    "    director_movies = df[df['Director'].str.contains(fr\"\\b{director_name}\\b\", case=False, regex=True, na=False)]\n",
    "\n",
    "    if director_movies.empty:\n",
    "        return \"No se encontró el director especificado.\"\n",
    "\n",
    "    film_count = len(director_movies)\n",
    "    total_return = director_movies['return'].sum()\n",
    "    answer = f\"El director {director_name} ha dirigido {film_count} pelicula(s). Con un ROI total de {total_return}\"\n",
    "\n",
    "    # Generar la representación HTML de la tabla\n",
    "    movies_table = director_movies[['Director', 'title', 'release_date', 'return', 'budget', 'revenue']]\n",
    "    movies_table_html = movies_table.to_html()\n",
    "\n",
    "    # Crear la respuesta HTML con el texto y la tabla generada\n",
    "    response_content = f\"<h1>{answer}</h1>{movies_table_html}\"\n",
    "    return HTMLResponse(content=response_content)"
   ]
  },
  {
   "cell_type": "code",
   "execution_count": null,
   "metadata": {},
   "outputs": [],
   "source": [
    "get_director('arman')"
   ]
  },
  {
   "cell_type": "code",
   "execution_count": null,
   "metadata": {},
   "outputs": [],
   "source": [
    "def get_director(director_name):\n",
    "    director_films = df[df[\"Director\"].str.contains(fr\"\\b{director_name}\\b\", case=False, regex=True, na=False)]\n",
    "    \n",
    "    if director_films.empty:\n",
    "        return \"No se encontró el director especificado.\"\n",
    "\n",
    "    films_info = director_films[[\"title\", \"release_date\", \"return\", \"budget\", \"revenue\"]]\n",
    "    respuesta = f\"El director {director_name} ha dirigido las siguientes películas:\\n\\n\"\n",
    "    for _, row in films_info.iterrows():\n",
    "        titulo = row[\"title\"]\n",
    "        fecha_lanzamiento = row[\"release_date\"]\n",
    "        retorno_individual = row[\"return\"]\n",
    "        costo = row[\"budget\"]\n",
    "        ganancia = row[\"revenue\"]\n",
    "        respuesta += f\"Título: {titulo}\\nFecha de lanzamiento: {fecha_lanzamiento}\\nRetorno individual: {retorno_individual}\\nCosto: {costo}\\nGanancia: {ganancia}\\n\\n\"\n",
    "\n",
    "    return respuesta\n"
   ]
  },
  {
   "cell_type": "code",
   "execution_count": 21,
   "metadata": {},
   "outputs": [],
   "source": [
    "@app.get(\"/votos_titulo/{titulo_de_la_filmacion}\")\n",
    "def votos_titulo(titulo_de_la_filmacion: str):\n",
    "    filmaciones = df[df[\"title\"].str.lower() == titulo_de_la_filmacion.lower()]\n",
    "    \n",
    "    if filmaciones.empty:\n",
    "        return \"No se encontró la filmación especificada.\"\n",
    "    \n",
    "    respuestas = []\n",
    "    \n",
    "    for _, row in filmaciones.iterrows():\n",
    "        cantidad_votos = row[\"vote_count\"]\n",
    "        \n",
    "        if cantidad_votos < 2000:\n",
    "            continue  # Saltar esta película si no cumple con la cantidad mínima de votos\n",
    "        \n",
    "        titulo = row[\"title\"]\n",
    "        promedio_votos = row[\"vote_average\"]\n",
    "        respuesta = f\"Título: {titulo}<br/>Cantidad de votos: {cantidad_votos}<br/>Valor promedio de votaciones: {promedio_votos}<br/><br/>\"\n",
    "        respuestas.append(respuesta)\n",
    "    \n",
    "    if not respuestas:\n",
    "        return \"No se encontraron filmaciones que cumplan con la cantidad mínima de votos requerida (2000 votos).\"\n",
    "    \n",
    "    return \"\\n\".join(respuestas)\n"
   ]
  },
  {
   "cell_type": "code",
   "execution_count": 32,
   "metadata": {},
   "outputs": [
    {
     "data": {
      "text/plain": [
       "'Título: Cinderella<br/>Cantidad de votos: 2426.0<br/>Valor promedio de votaciones: 6.7<br/><br/>'"
      ]
     },
     "execution_count": 32,
     "metadata": {},
     "output_type": "execute_result"
    }
   ],
   "source": [
    "votos_titulo('Cinderella')"
   ]
  },
  {
   "cell_type": "code",
   "execution_count": 28,
   "metadata": {},
   "outputs": [
    {
     "data": {
      "text/plain": [
       "0                          Toy Story\n",
       "1                            Jumanji\n",
       "2                   Grumpier Old Men\n",
       "3                  Waiting to Exhale\n",
       "4        Father of the Bride Part II\n",
       "                    ...             \n",
       "45418                     Robin Hood\n",
       "45419            Century of Birthing\n",
       "45420                       Betrayal\n",
       "45421               Satan Triumphant\n",
       "45422                       Queerama\n",
       "Name: title, Length: 45423, dtype: object"
      ]
     },
     "execution_count": 28,
     "metadata": {},
     "output_type": "execute_result"
    }
   ],
   "source": [
    "df.title"
   ]
  }
 ],
 "metadata": {
  "kernelspec": {
   "display_name": "Python 3",
   "language": "python",
   "name": "python3"
  },
  "language_info": {
   "codemirror_mode": {
    "name": "ipython",
    "version": 3
   },
   "file_extension": ".py",
   "mimetype": "text/x-python",
   "name": "python",
   "nbconvert_exporter": "python",
   "pygments_lexer": "ipython3",
   "version": "3.10.9"
  },
  "orig_nbformat": 4
 },
 "nbformat": 4,
 "nbformat_minor": 2
}
